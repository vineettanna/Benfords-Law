{
 "cells": [
  {
   "cell_type": "markdown",
   "metadata": {},
   "source": [
    "Testing Benford's Law on the Total Assets, Total Revenue, Total Income and Net Operating Cash Outflow of the Quaterly Financial Information of US firms within the period 1995 to 2014.\n",
    "\n",
    "Writing a function to test Benford's Law using Chi Square Test"
   ]
  },
  {
   "cell_type": "code",
   "execution_count": 5,
   "metadata": {
    "collapsed": true
   },
   "outputs": [],
   "source": [
    "import numpy as np\n",
    "import pandas as pd\n",
    "np.random.seed(6011993)\n",
    "from pandas import DataFrame,Series\n",
    "def isBenford_chisq(x):\n",
    "    \"\"\"This function accepts a Series and tests if it follows the Benford's Law using Chi Square Statistics\"\"\"\n",
    "    x = Series(np.array([i[0] for i in np.abs(x).astype('str')]).astype('int'))\n",
    "    x = (x.value_counts()).sort_index()\n",
    "    x = DataFrame(x,columns = ['Actual'])\n",
    "    x['Expected'] = (np.log10(1+1.0/(x.index)))* (x['Actual'].sum())\n",
    "    x['Chi Square'] = ((x['Actual'] - x['Expected'])**2)/(x['Expected'])\n",
    "    actual = x['Chi Square'].sum()\n",
    "    cutoff = 15.51\n",
    "\n",
    "    return (actual,cutoff,actual <= cutoff,x)"
   ]
  },
  {
   "cell_type": "markdown",
   "metadata": {},
   "source": [
    "Importing Data"
   ]
  },
  {
   "cell_type": "code",
   "execution_count": 6,
   "metadata": {},
   "outputs": [
    {
     "data": {
      "text/html": [
       "<div>\n",
       "<style scoped>\n",
       "    .dataframe tbody tr th:only-of-type {\n",
       "        vertical-align: middle;\n",
       "    }\n",
       "\n",
       "    .dataframe tbody tr th {\n",
       "        vertical-align: top;\n",
       "    }\n",
       "\n",
       "    .dataframe thead th {\n",
       "        text-align: right;\n",
       "    }\n",
       "</style>\n",
       "<table border=\"1\" class=\"dataframe\">\n",
       "  <thead>\n",
       "    <tr style=\"text-align: right;\">\n",
       "      <th></th>\n",
       "      <th>gvkey</th>\n",
       "      <th>fyearq</th>\n",
       "      <th>fqtr</th>\n",
       "      <th>actq</th>\n",
       "      <th>atq</th>\n",
       "      <th>ceqq</th>\n",
       "      <th>cshoq</th>\n",
       "      <th>dlttq</th>\n",
       "      <th>lctq</th>\n",
       "      <th>niq</th>\n",
       "      <th>revtq</th>\n",
       "      <th>cogsy</th>\n",
       "      <th>oancfy</th>\n",
       "      <th>prccq</th>\n",
       "      <th>gind</th>\n",
       "      <th>sic</th>\n",
       "    </tr>\n",
       "  </thead>\n",
       "  <tbody>\n",
       "    <tr>\n",
       "      <th>count</th>\n",
       "      <td>364285.000000</td>\n",
       "      <td>364285.000000</td>\n",
       "      <td>364285.000000</td>\n",
       "      <td>364285.000000</td>\n",
       "      <td>364285.000000</td>\n",
       "      <td>364285.000000</td>\n",
       "      <td>364285.000000</td>\n",
       "      <td>364285.000000</td>\n",
       "      <td>364285.000000</td>\n",
       "      <td>364285.000000</td>\n",
       "      <td>364138.000000</td>\n",
       "      <td>364285.000000</td>\n",
       "      <td>364285.000000</td>\n",
       "      <td>364285.000000</td>\n",
       "      <td>363607.000000</td>\n",
       "      <td>364285.000000</td>\n",
       "    </tr>\n",
       "    <tr>\n",
       "      <th>mean</th>\n",
       "      <td>57532.219987</td>\n",
       "      <td>2004.859025</td>\n",
       "      <td>2.518050</td>\n",
       "      <td>922.566861</td>\n",
       "      <td>2950.512708</td>\n",
       "      <td>1176.425015</td>\n",
       "      <td>106.273979</td>\n",
       "      <td>638.921320</td>\n",
       "      <td>669.417250</td>\n",
       "      <td>36.744126</td>\n",
       "      <td>633.213795</td>\n",
       "      <td>1062.234601</td>\n",
       "      <td>184.225278</td>\n",
       "      <td>18.088612</td>\n",
       "      <td>294285.936932</td>\n",
       "      <td>4301.553610</td>\n",
       "    </tr>\n",
       "    <tr>\n",
       "      <th>std</th>\n",
       "      <td>59025.374370</td>\n",
       "      <td>5.310472</td>\n",
       "      <td>1.121935</td>\n",
       "      <td>4319.336357</td>\n",
       "      <td>13870.268010</td>\n",
       "      <td>6037.645978</td>\n",
       "      <td>376.368922</td>\n",
       "      <td>2918.590656</td>\n",
       "      <td>3541.313324</td>\n",
       "      <td>413.809237</td>\n",
       "      <td>3324.084826</td>\n",
       "      <td>6805.990633</td>\n",
       "      <td>1206.355715</td>\n",
       "      <td>44.190655</td>\n",
       "      <td>125432.650870</td>\n",
       "      <td>2151.034637</td>\n",
       "    </tr>\n",
       "    <tr>\n",
       "      <th>min</th>\n",
       "      <td>1004.000000</td>\n",
       "      <td>1995.000000</td>\n",
       "      <td>1.000000</td>\n",
       "      <td>0.000000</td>\n",
       "      <td>0.000000</td>\n",
       "      <td>0.000000</td>\n",
       "      <td>0.000000</td>\n",
       "      <td>0.000000</td>\n",
       "      <td>0.000000</td>\n",
       "      <td>-66047.822000</td>\n",
       "      <td>0.000000</td>\n",
       "      <td>0.000000</td>\n",
       "      <td>-6360.000000</td>\n",
       "      <td>0.000100</td>\n",
       "      <td>101010.000000</td>\n",
       "      <td>100.000000</td>\n",
       "    </tr>\n",
       "    <tr>\n",
       "      <th>25%</th>\n",
       "      <td>11051.000000</td>\n",
       "      <td>2001.000000</td>\n",
       "      <td>2.000000</td>\n",
       "      <td>17.532000</td>\n",
       "      <td>37.238000</td>\n",
       "      <td>20.708000</td>\n",
       "      <td>11.685000</td>\n",
       "      <td>0.000000</td>\n",
       "      <td>6.705000</td>\n",
       "      <td>-0.932000</td>\n",
       "      <td>5.927250</td>\n",
       "      <td>7.376000</td>\n",
       "      <td>-1.050000</td>\n",
       "      <td>2.680000</td>\n",
       "      <td>201040.000000</td>\n",
       "      <td>2835.000000</td>\n",
       "    </tr>\n",
       "    <tr>\n",
       "      <th>50%</th>\n",
       "      <td>28429.000000</td>\n",
       "      <td>2005.000000</td>\n",
       "      <td>3.000000</td>\n",
       "      <td>81.124000</td>\n",
       "      <td>184.759000</td>\n",
       "      <td>98.274000</td>\n",
       "      <td>28.464000</td>\n",
       "      <td>6.082000</td>\n",
       "      <td>34.312000</td>\n",
       "      <td>0.759000</td>\n",
       "      <td>40.292000</td>\n",
       "      <td>49.577000</td>\n",
       "      <td>3.275000</td>\n",
       "      <td>9.600000</td>\n",
       "      <td>255040.000000</td>\n",
       "      <td>3714.000000</td>\n",
       "    </tr>\n",
       "    <tr>\n",
       "      <th>75%</th>\n",
       "      <td>107027.000000</td>\n",
       "      <td>2009.000000</td>\n",
       "      <td>4.000000</td>\n",
       "      <td>366.211000</td>\n",
       "      <td>1013.658000</td>\n",
       "      <td>456.227000</td>\n",
       "      <td>70.606000</td>\n",
       "      <td>194.930000</td>\n",
       "      <td>188.393000</td>\n",
       "      <td>10.460000</td>\n",
       "      <td>229.482500</td>\n",
       "      <td>320.519000</td>\n",
       "      <td>42.363000</td>\n",
       "      <td>24.490000</td>\n",
       "      <td>451010.000000</td>\n",
       "      <td>5812.000000</td>\n",
       "    </tr>\n",
       "    <tr>\n",
       "      <th>max</th>\n",
       "      <td>294524.000000</td>\n",
       "      <td>2014.000000</td>\n",
       "      <td>4.000000</td>\n",
       "      <td>153774.000000</td>\n",
       "      <td>410074.000000</td>\n",
       "      <td>284434.000000</td>\n",
       "      <td>21667.189000</td>\n",
       "      <td>129025.000000</td>\n",
       "      <td>145148.000000</td>\n",
       "      <td>69758.268000</td>\n",
       "      <td>207307.334000</td>\n",
       "      <td>432443.466000</td>\n",
       "      <td>59725.000000</td>\n",
       "      <td>5010.000000</td>\n",
       "      <td>551050.000000</td>\n",
       "      <td>9997.000000</td>\n",
       "    </tr>\n",
       "  </tbody>\n",
       "</table>\n",
       "</div>"
      ],
      "text/plain": [
       "               gvkey         fyearq           fqtr           actq  \\\n",
       "count  364285.000000  364285.000000  364285.000000  364285.000000   \n",
       "mean    57532.219987    2004.859025       2.518050     922.566861   \n",
       "std     59025.374370       5.310472       1.121935    4319.336357   \n",
       "min      1004.000000    1995.000000       1.000000       0.000000   \n",
       "25%     11051.000000    2001.000000       2.000000      17.532000   \n",
       "50%     28429.000000    2005.000000       3.000000      81.124000   \n",
       "75%    107027.000000    2009.000000       4.000000     366.211000   \n",
       "max    294524.000000    2014.000000       4.000000  153774.000000   \n",
       "\n",
       "                 atq           ceqq          cshoq          dlttq  \\\n",
       "count  364285.000000  364285.000000  364285.000000  364285.000000   \n",
       "mean     2950.512708    1176.425015     106.273979     638.921320   \n",
       "std     13870.268010    6037.645978     376.368922    2918.590656   \n",
       "min         0.000000       0.000000       0.000000       0.000000   \n",
       "25%        37.238000      20.708000      11.685000       0.000000   \n",
       "50%       184.759000      98.274000      28.464000       6.082000   \n",
       "75%      1013.658000     456.227000      70.606000     194.930000   \n",
       "max    410074.000000  284434.000000   21667.189000  129025.000000   \n",
       "\n",
       "                lctq            niq          revtq          cogsy  \\\n",
       "count  364285.000000  364285.000000  364138.000000  364285.000000   \n",
       "mean      669.417250      36.744126     633.213795    1062.234601   \n",
       "std      3541.313324     413.809237    3324.084826    6805.990633   \n",
       "min         0.000000  -66047.822000       0.000000       0.000000   \n",
       "25%         6.705000      -0.932000       5.927250       7.376000   \n",
       "50%        34.312000       0.759000      40.292000      49.577000   \n",
       "75%       188.393000      10.460000     229.482500     320.519000   \n",
       "max    145148.000000   69758.268000  207307.334000  432443.466000   \n",
       "\n",
       "              oancfy          prccq           gind            sic  \n",
       "count  364285.000000  364285.000000  363607.000000  364285.000000  \n",
       "mean      184.225278      18.088612  294285.936932    4301.553610  \n",
       "std      1206.355715      44.190655  125432.650870    2151.034637  \n",
       "min     -6360.000000       0.000100  101010.000000     100.000000  \n",
       "25%        -1.050000       2.680000  201040.000000    2835.000000  \n",
       "50%         3.275000       9.600000  255040.000000    3714.000000  \n",
       "75%        42.363000      24.490000  451010.000000    5812.000000  \n",
       "max     59725.000000    5010.000000  551050.000000    9997.000000  "
      ]
     },
     "execution_count": 6,
     "metadata": {},
     "output_type": "execute_result"
    }
   ],
   "source": [
    "companies = pd.read_csv(\"data.csv\")\n",
    "companies.describe()"
   ]
  },
  {
   "cell_type": "markdown",
   "metadata": {},
   "source": [
    "Cleaning atq (Total Assets) to remove 0's and ensuring that first digit of every atq value is not 0"
   ]
  },
  {
   "cell_type": "code",
   "execution_count": 13,
   "metadata": {},
   "outputs": [
    {
     "name": "stdout",
     "output_type": "stream",
     "text": [
      "3358\n",
      "0\n"
     ]
    }
   ],
   "source": [
    "print (((companies.atq <1) & (companies.atq > 0)).sum())\n",
    "companies['atq'] = (companies.atq)*1000\n",
    "companies = companies[:][~(companies.atq == 0)]\n",
    "companies = companies[:][~(companies.atq.isnull())]\n",
    "print (((companies.atq <1)).sum())"
   ]
  },
  {
   "cell_type": "markdown",
   "metadata": {},
   "source": [
    "Cleaning revtq (Total Revenue) to remove 0's and ensuring that first digit of every atq value is not 0"
   ]
  },
  {
   "cell_type": "code",
   "execution_count": null,
   "metadata": {},
   "outputs": [],
   "source": [
    "companies = companies[:][~(companies.revtq == 0)]\n",
    "companies = companies[:][~(companies.revtq.isnull())]\n",
    "print (((companies.revtq <1)).sum())\n",
    "companies['revtq'] = (companies.revtq) * 1000\n",
    "print (((companies.revtq <1)).sum())"
   ]
  },
  {
   "cell_type": "markdown",
   "metadata": {},
   "source": [
    "Running isBenford_chisq we get,"
   ]
  },
  {
   "cell_type": "code",
   "execution_count": null,
   "metadata": {},
   "outputs": [],
   "source": [
    "atq_actual,atq_cutoff,atq_isBenford,atq_dist = isBenford_chisq(companies.atq)\n",
    "print (\"For Total Assets Distribution\")\n",
    "print (atq_dist)\n",
    "print (\"Actual Chi Square Statistic: {0}, Cut-off: {1}, isBenford = {2}\".format\\\n",
    "(atq_actual,atq_cutoff,atq_isBenford))"
   ]
  },
  {
   "cell_type": "code",
   "execution_count": null,
   "metadata": {},
   "outputs": [],
   "source": [
    "revtq_actual,revtq_cutoff,revtq_isBenford,revtq_dist = isBenford_chisq(companies.revtq)\n",
    "print \"For Total Revenue Distribution\"\n",
    "print revtq_dist\n",
    "print \"Actual Chi Square Statistic: {0}, Cut-off: {1}, isBenford = {2}\".format\\\n",
    "(revtq_actual,revtq_cutoff,revtq_isBenford)"
   ]
  },
  {
   "cell_type": "markdown",
   "metadata": {},
   "source": [
    "As we can see from above, Total Revenue and Total Assets do not follow Benford's Law. This shows that the numbers for revenue and total assets have been manipulated and do not reflect natural distribution.\n",
    "\n",
    "Cleaning Total Income (niq("
   ]
  },
  {
   "cell_type": "code",
   "execution_count": null,
   "metadata": {},
   "outputs": [],
   "source": [
    "companies = companies[:][~(companies.niq == 0)]\n",
    "print (np.abs(companies.niq) <1).sum()\n",
    "companies['niq'] = (companies.niq) * 1000\n",
    "print (np.abs(companies.niq) <1).sum()"
   ]
  },
  {
   "cell_type": "markdown",
   "metadata": {},
   "source": [
    "Cleaning Net Operating Cash Flows (oancfy)"
   ]
  },
  {
   "cell_type": "code",
   "execution_count": null,
   "metadata": {},
   "outputs": [],
   "source": [
    "companies = companies[:][~(companies.oancfy == 0)]\n",
    "print (np.abs(companies.oancfy) <1).sum()\n",
    "companies['oancfy'] = (companies.oancfy) * 1000\n",
    "print (np.abs(companies.oancfy) <1).sum()"
   ]
  },
  {
   "cell_type": "markdown",
   "metadata": {},
   "source": [
    "Running isBenford_chisq we get,"
   ]
  },
  {
   "cell_type": "code",
   "execution_count": null,
   "metadata": {},
   "outputs": [],
   "source": [
    "niq_actual,niq_cutoff,niq_isBenford,niq_dist = isBenford_chisq(companies.niq)\n",
    "print \"For Net Income Distribution\"\n",
    "print niq_dist\n",
    "print \"Actual Chi Square Statistic: {0}, Cut-off: {1}, isBenford = {2}\".format\\\n",
    "(niq_actual,niq_cutoff,niq_isBenford)"
   ]
  },
  {
   "cell_type": "code",
   "execution_count": null,
   "metadata": {},
   "outputs": [],
   "source": [
    "oancfy_actual,oancfy_cutoff,oancfy_isBenford,oancfy_dist = isBenford_chisq(companies.oancfy)\n",
    "print \"For Operating Cash Outflow Distribution\"\n",
    "print oancfy_dist\n",
    "print \"Actual Chi Square Statistic: {0}, Cut-off: {1}, isBenford = {2}\".format\\\n",
    "(oancfy_actual,oancfy_cutoff,oancfy_isBenford)"
   ]
  },
  {
   "cell_type": "markdown",
   "metadata": {},
   "source": [
    "As we can see from above, Net Income does not follow Benford's law. This is because if Revenue and Costs are manipulated, the Net Income which is the difference between Revenue and Costs is also not naturally distributed. The CEO's manipulate the Net Income to manipulate their firm's performance. On the other hand, we can see that Operating Cash Outflows follow Benford's law because there is not much scope for a CEO to manipulate in cash outflow. As soon as cash/operating expenses are paid for, it is recognized as cash outflow, thus limiting the scope for manipulation."
   ]
  }
 ],
 "metadata": {
  "kernelspec": {
   "display_name": "Python 3",
   "language": "python",
   "name": "python3"
  },
  "language_info": {
   "codemirror_mode": {
    "name": "ipython",
    "version": 3
   },
   "file_extension": ".py",
   "mimetype": "text/x-python",
   "name": "python",
   "nbconvert_exporter": "python",
   "pygments_lexer": "ipython3",
   "version": "3.6.3"
  }
 },
 "nbformat": 4,
 "nbformat_minor": 2
}
