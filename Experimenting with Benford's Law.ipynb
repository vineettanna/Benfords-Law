{
 "cells": [
  {
   "cell_type": "markdown",
   "metadata": {},
   "source": [
    "Defining isBenford Using KS Statistics"
   ]
  },
  {
   "cell_type": "code",
   "execution_count": 10,
   "metadata": {
    "collapsed": true
   },
   "outputs": [],
   "source": [
    "import numpy as np\n",
    "import pandas as pd\n",
    "np.random.seed(6011993)\n",
    "from pandas import DataFrame,Series\n",
    "def isBenford_ks(x):\n",
    "    \"\"\"This function accepts a Series and checks if it follows the Benford's Law using KS Statistics\"\"\"\n",
    "    x = Series(np.array([i[0] for i in np.abs(x).astype('str')]).astype('int')) #Extracting 1st digit\n",
    "    x = (x.value_counts()).sort_index()\n",
    "    x = DataFrame(x,columns = ['Count'])\n",
    "    x['Actual Distribution'] = x['Count']/x['Count'].sum()\n",
    "    x['Expected Distribution'] = np.log10(1+1.0/(x.index)) #Expected Distribution according to Benford's Law\n",
    "    x['Cumulative Difference'] = np.abs(x['Actual Distribution'].cumsum() -\\\n",
    "    x['Expected Distribution'].cumsum())\n",
    "    actual = x['Cumulative Difference'].max()\n",
    "    cutoff = 1.36/np.sqrt(x['Count'].sum())\n",
    "\n",
    "    return (actual,cutoff,actual <= cutoff,x)"
   ]
  },
  {
   "cell_type": "markdown",
   "metadata": {},
   "source": [
    "Generating Random Variables and ensuring that they their absolute value is greater than 0 so that 1st digit can be chopped off"
   ]
  },
  {
   "cell_type": "code",
   "execution_count": 11,
   "metadata": {},
   "outputs": [
    {
     "name": "stdout",
     "output_type": "stream",
     "text": [
      "0\n",
      "0\n",
      "0\n"
     ]
    }
   ],
   "source": [
    "y = (np.random.normal(1,1,1000))*100000\n",
    "z = (np.random.normal(0,1,1000))*100000\n",
    "x = (np.random.uniform(0,1,1000))*100000\n",
    "\n",
    "print (np.sum(np.abs(x)<1))\n",
    "print (np.sum(np.abs(y)<1))\n",
    "print (np.sum(np.abs(z)<1))"
   ]
  },
  {
   "cell_type": "markdown",
   "metadata": {},
   "source": [
    "Doing a KS Statistics test to see if they follow Benford's Distribution"
   ]
  },
  {
   "cell_type": "code",
   "execution_count": 12,
   "metadata": {},
   "outputs": [
    {
     "name": "stdout",
     "output_type": "stream",
     "text": [
      "For x Distribution:\n",
      "   Count  Actual Distribution  Expected Distribution  Cumulative Difference\n",
      "1    112                0.112               0.301030           1.890300e-01\n",
      "2    121                0.121               0.176091           2.441213e-01\n",
      "3    110                0.110               0.124939           2.590600e-01\n",
      "4    113                0.113               0.096910           2.429700e-01\n",
      "5     95                0.095               0.079181           2.271513e-01\n",
      "6    112                0.112               0.066947           1.820980e-01\n",
      "7    119                0.119               0.057992           1.210900e-01\n",
      "8    107                0.107               0.051153           6.524251e-02\n",
      "9    111                0.111               0.045757           1.110223e-16\n",
      "Actual KS Statistic: 0.2590599913279624, Cut-off: 0.04300697617828996, isBenford = False\n",
      "For y Distribution:\n",
      "   Count  Actual Distribution  Expected Distribution  Cumulative Difference\n",
      "1    428                0.428               0.301030           1.269700e-01\n",
      "2    200                0.200               0.176091           1.508787e-01\n",
      "3     73                0.073               0.124939           9.894001e-02\n",
      "4     59                0.059               0.096910           6.103000e-02\n",
      "5     54                0.054               0.079181           3.584875e-02\n",
      "6     37                0.037               0.066947           5.901960e-03\n",
      "7     52                0.052               0.057992           8.998699e-05\n",
      "8     50                0.050               0.051153           1.242509e-03\n",
      "9     47                0.047               0.045757           2.220446e-16\n",
      "Actual KS Statistic: 0.15087874528033757, Cut-off: 0.04300697617828996, isBenford = False\n",
      "For z Distribution:\n",
      "   Count  Actual Distribution  Expected Distribution  Cumulative Difference\n",
      "1    359                0.359               0.301030           5.797000e-02\n",
      "2    112                0.112               0.176091           6.121255e-03\n",
      "3     94                0.094               0.124939           3.705999e-02\n",
      "4     88                0.088               0.096910           4.597000e-02\n",
      "5     77                0.077               0.079181           4.815125e-02\n",
      "6     96                0.096               0.066947           1.909804e-02\n",
      "7     62                0.062               0.057992           1.508999e-02\n",
      "8     69                0.069               0.051153           2.757491e-03\n",
      "9     43                0.043               0.045757           1.110223e-16\n",
      "Actual KS Statistic: 0.05797000433601879, Cut-off: 0.04300697617828996, isBenford = False\n"
     ]
    }
   ],
   "source": [
    "x_actual,x_cutoff,x_isBenford,x_dist =  isBenford_ks(x)\n",
    "y_actual,y_cutoff,y_isBenford,y_dist =  isBenford_ks(y)\n",
    "z_actual,z_cutoff,z_isBenford,z_dist =  isBenford_ks(z)\n",
    "print (\"For x Distribution:\")\n",
    "print (x_dist)\n",
    "print (\"Actual KS Statistic: {0}, Cut-off: {1}, isBenford = {2}\".format(x_actual,\\\n",
    "x_cutoff,x_isBenford))\n",
    "print (\"For y Distribution:\")\n",
    "print (y_dist)\n",
    "print (\"Actual KS Statistic: {0}, Cut-off: {1}, isBenford = {2}\".format(y_actual,\\\n",
    "y_cutoff,y_isBenford))\n",
    "print (\"For z Distribution:\")\n",
    "print (z_dist)\n",
    "print (\"Actual KS Statistic: {0}, Cut-off: {1}, isBenford = {2}\".format(z_actual,\\\n",
    "z_cutoff,z_isBenford))"
   ]
  },
  {
   "cell_type": "markdown",
   "metadata": {},
   "source": [
    "As we can see from above, the KS Statistic obtained for each of the Random variables is greater than the cutoff value and thus they do not obey Benford's law.\n",
    "For the uniform distribution, each first digit would have an equal probability of distribution which violates the Benford's law\n",
    "For Normal distribution, most of the data would be concentrated around the mean, thus they would not have the freedom to distribute among themselves according to Benford's law. They are not naturally occuring datasets.\n",
    "\n",
    "\n",
    "Now, lets see if the products of randomly generated numbers follow the Benford's Law. Generating the product and ensuring that they their absolute value is greater than 0 so that 1st digit can be chopped off"
   ]
  },
  {
   "cell_type": "code",
   "execution_count": 13,
   "metadata": {},
   "outputs": [
    {
     "name": "stdout",
     "output_type": "stream",
     "text": [
      "0\n"
     ]
    }
   ],
   "source": [
    "x = (np.random.uniform(0,1,1000))\n",
    "y = (np.random.normal(1,1,1000))\n",
    "z = (np.random.normal(0,1,1000))\n",
    "p = x * y * z * 1000000000000\n",
    "print (np.sum(np.abs(p)<1))"
   ]
  },
  {
   "cell_type": "code",
   "execution_count": 14,
   "metadata": {},
   "outputs": [
    {
     "name": "stdout",
     "output_type": "stream",
     "text": [
      "For Product:\n",
      "   Count  Actual Distribution  Expected Distribution  Cumulative Difference\n",
      "1    301                0.301               0.301030               0.000030\n",
      "2    183                0.183               0.176091               0.006879\n",
      "3    128                0.128               0.124939               0.009940\n",
      "4     88                0.088               0.096910               0.001030\n",
      "5     81                0.081               0.079181               0.002849\n",
      "6     77                0.077               0.066947               0.012902\n",
      "7     54                0.054               0.057992               0.008910\n",
      "8     54                0.054               0.051153               0.011757\n",
      "9     34                0.034               0.045757               0.000000\n",
      "Actual KS Statistic: 0.012901959985743061, Cut-off: 0.04300697617828996, isBenford = True\n"
     ]
    }
   ],
   "source": [
    "p_actual,p_cutoff,p_isBenford,p_dist =  isBenford_ks(p)\n",
    "print (\"For Product:\")\n",
    "print (p_dist)\n",
    "print (\"Actual KS Statistic: {0}, Cut-off: {1}, isBenford = {2}\".format(p_actual,\\\n",
    "p_cutoff,p_isBenford))"
   ]
  },
  {
   "cell_type": "markdown",
   "metadata": {},
   "source": [
    "As we can see from above, the KS Statistic obtained from the product of 3 random variables is less than the cutoff value and thus they obey Benford's law. This is because it is a product of 3 random variables and it behaves like a naturally occurring dataset.\n",
    "\n",
    "Now, let us test Benford's Law on product on a Series which is a product of 3 random distributions but only filtering for those values who's product is greater that 0.1 .Generating the product and ensuring that they their absolute value is greater than 0 so that 1st digit can be chopped off"
   ]
  },
  {
   "cell_type": "code",
   "execution_count": 15,
   "metadata": {},
   "outputs": [
    {
     "name": "stdout",
     "output_type": "stream",
     "text": [
      "0\n"
     ]
    }
   ],
   "source": [
    "x = (np.random.uniform(0,1,1000))\n",
    "y = (np.random.normal(1,1,1000))\n",
    "z = (np.random.normal(0,1,1000))\n",
    "p = x * y * z\n",
    "p = p[np.abs(p)>=0.1]\n",
    "p = np.round(p,decimals = 1)*10\n",
    "print (np.sum(np.abs(p)<1))"
   ]
  },
  {
   "cell_type": "code",
   "execution_count": 16,
   "metadata": {},
   "outputs": [
    {
     "name": "stdout",
     "output_type": "stream",
     "text": [
      "For Product after Rounding:\n",
      "   Count  Actual Distribution  Expected Distribution  Cumulative Difference\n",
      "1    189             0.291667               0.301030               0.009363\n",
      "2    141             0.217593               0.176091               0.032138\n",
      "3     95             0.146605               0.124939               0.053804\n",
      "4     68             0.104938               0.096910               0.061832\n",
      "5     50             0.077160               0.079181               0.059812\n",
      "6     37             0.057099               0.066947               0.049964\n",
      "7     29             0.044753               0.057992               0.036725\n",
      "8     14             0.021605               0.051153               0.007177\n",
      "9     25             0.038580               0.045757               0.000000\n",
      "Actual KS Statistic: 0.06183246479978366, Cut-off: 0.05342584568965026, isBenford = False\n"
     ]
    }
   ],
   "source": [
    "p_actual,p_cutoff,p_isBenford,p_dist =  isBenford_ks(p)\n",
    "print (\"For Product after Rounding:\")\n",
    "print (p_dist)\n",
    "print (\"Actual KS Statistic: {0}, Cut-off: {1}, isBenford = {2}\".format(p_actual,\\\n",
    "p_cutoff,p_isBenford))"
   ]
  },
  {
   "cell_type": "markdown",
   "metadata": {},
   "source": [
    "As we can see from above, the KS Statistic obtained for round of Product of 3 random variables is greater than the cutoff value and thus they do not obey Benford's law.  This is because firstly, we had to omit all the values <0.1 and rounding them off to the nearest 1 decimal is 0. Secondly, by rounding off the data, the data is no more naturally occurring numbers."
   ]
  }
 ],
 "metadata": {
  "kernelspec": {
   "display_name": "Python 3",
   "language": "python",
   "name": "python3"
  },
  "language_info": {
   "codemirror_mode": {
    "name": "ipython",
    "version": 3
   },
   "file_extension": ".py",
   "mimetype": "text/x-python",
   "name": "python",
   "nbconvert_exporter": "python",
   "pygments_lexer": "ipython3",
   "version": "3.6.3"
  }
 },
 "nbformat": 4,
 "nbformat_minor": 2
}
